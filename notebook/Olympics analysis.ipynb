{
 "cells": [
  {
   "cell_type": "code",
   "execution_count": null,
   "id": "1a572e14-e514-48b6-a6f1-e19f55a6f1ed",
   "metadata": {},
   "outputs": [],
   "source": [
    "import pandas as pd\n",
    "import numpy as np\n",
    "import seaborn as sns\n",
    "import matplotlib.pyplot as plt"
   ]
  },
  {
   "cell_type": "code",
   "execution_count": null,
   "id": "c553c536-398b-432e-84a7-45920bb0aafa",
   "metadata": {},
   "outputs": [],
   "source": [
    "# import csv files\n",
    "df = pd.read_csv('athlete_events.csv')\n",
    "region_df = pd.read_csv('noc_regions.csv')"
   ]
  },
  {
   "cell_type": "code",
   "execution_count": null,
   "id": "0dbea717-9cb3-466b-9fd0-c93114727d75",
   "metadata": {},
   "outputs": [],
   "source": [
    "df.head(2)"
   ]
  },
  {
   "cell_type": "code",
   "execution_count": null,
   "id": "de71dc2a-da3c-47fc-a5b5-e1a79c1b0f80",
   "metadata": {},
   "outputs": [],
   "source": [
    "region_df.head(2)"
   ]
  },
  {
   "cell_type": "code",
   "execution_count": null,
   "id": "3adfd87c-82de-4cad-a77e-5ebae3f7f814",
   "metadata": {},
   "outputs": [],
   "source": [
    "df.shape"
   ]
  },
  {
   "cell_type": "code",
   "execution_count": null,
   "id": "bcfb56ab-907c-4808-a005-d9b03a2175d1",
   "metadata": {},
   "outputs": [],
   "source": [
    "df = df[df['Season']=='Summer']\n",
    "df.shape"
   ]
  },
  {
   "cell_type": "code",
   "execution_count": null,
   "id": "1ff739b5-571d-45b7-bebf-b137e5aa4f28",
   "metadata": {},
   "outputs": [],
   "source": [
    "df.tail()"
   ]
  },
  {
   "cell_type": "code",
   "execution_count": null,
   "id": "f5451ffb-f6a8-4e35-a0bb-4c1238c07d74",
   "metadata": {},
   "outputs": [],
   "source": [
    "# Find the country name \n",
    "df = df.merge(region_df, on='NOC', how='left')"
   ]
  },
  {
   "cell_type": "code",
   "execution_count": null,
   "id": "bf01e2df-02dd-4235-817f-8ac7f4c31a1c",
   "metadata": {},
   "outputs": [],
   "source": [
    "df.head(5)"
   ]
  },
  {
   "cell_type": "code",
   "execution_count": null,
   "id": "cbbe1a17-e11d-4edd-9e03-b347045e775d",
   "metadata": {},
   "outputs": [],
   "source": [
    "df['region'].unique().shape # It displays the number of countries that participated"
   ]
  },
  {
   "cell_type": "code",
   "execution_count": null,
   "id": "8b8863f4-0c0e-48e5-982e-9d2dc6efe32d",
   "metadata": {},
   "outputs": [],
   "source": [
    "# Check Missing value and duplicate value\n",
    "df.isnull().sum()"
   ]
  },
  {
   "cell_type": "code",
   "execution_count": null,
   "id": "105f855c-7640-49af-bc61-55464eb80719",
   "metadata": {},
   "outputs": [],
   "source": [
    "# check duplicate rows\n",
    "df.duplicated().sum()"
   ]
  },
  {
   "cell_type": "code",
   "execution_count": null,
   "id": "31888cc0-5874-4c3d-9bea-92019d9dc72b",
   "metadata": {},
   "outputs": [],
   "source": [
    "df.drop_duplicates(inplace=True)"
   ]
  },
  {
   "cell_type": "code",
   "execution_count": null,
   "id": "d218318f-ab11-472f-a873-b3ae2619f695",
   "metadata": {},
   "outputs": [],
   "source": [
    "df.duplicated().sum()"
   ]
  },
  {
   "cell_type": "code",
   "execution_count": null,
   "id": "862fde39-ac1a-4d46-a067-6ebdbb3cf7dd",
   "metadata": {},
   "outputs": [],
   "source": [
    "# Count the occurrences of each medal type (Gold, Silver, Bronze) in the dataset\n",
    "df['Medal'].value_counts()"
   ]
  },
  {
   "cell_type": "code",
   "execution_count": null,
   "id": "8de3af9d-4592-4362-8964-7e52a434ab70",
   "metadata": {},
   "outputs": [],
   "source": [
    "# Make separate column for gold, bronze, and silver\n",
    "pd.get_dummies(df['Medal'], dtype=int)"
   ]
  },
  {
   "cell_type": "code",
   "execution_count": null,
   "id": "79234ab1-15f3-4ecf-9e94-e3184b863bad",
   "metadata": {},
   "outputs": [],
   "source": [
    "# Concate above df with original df\n",
    "df = pd.concat([df,pd.get_dummies(df['Medal'], dtype=int)],axis=1)\n",
    "df.shape"
   ]
  },
  {
   "cell_type": "code",
   "execution_count": null,
   "id": "809b83ff-73dc-4612-bead-7531fed2b2ec",
   "metadata": {},
   "outputs": [],
   "source": [
    "# df.tail()"
   ]
  },
  {
   "cell_type": "code",
   "execution_count": null,
   "id": "32a47f4c-a04e-4edb-87a4-ec3613c401e9",
   "metadata": {},
   "outputs": [],
   "source": [
    "# Group the dataset by 'region' (country), summing up the total count of Gold, Silver, and Bronze medals.  \n",
    "# Then, sort the results in descending order based on the number of Gold medals.  \n",
    "# Finally, reset the index for a clean output.  \n",
    "df.groupby('region', as_index=False)[['Gold', 'Silver', 'Bronze']] \\\n",
    "  .sum() \\\n",
    "  .sort_values('Gold', ascending=False) \\\n",
    "  .reset_index(drop=True)"
   ]
  },
  {
   "cell_type": "code",
   "execution_count": null,
   "id": "92a77628-21c2-4563-89d6-5a690cdbd54f",
   "metadata": {},
   "outputs": [],
   "source": [
    "# remove duplicate rows on the basis of teams, noc, games, year, season, city\n",
    "medal_tally = df.drop_duplicates(subset=['Team', 'NOC', 'Games', 'Year', 'City', 'Sport', 'Event', 'Medal'])"
   ]
  },
  {
   "cell_type": "code",
   "execution_count": null,
   "id": "fee57830-b834-4bc5-b306-5453415ff427",
   "metadata": {},
   "outputs": [],
   "source": [
    "print(medal_tally.columns)"
   ]
  },
  {
   "cell_type": "code",
   "execution_count": null,
   "id": "9f3724f8-f910-4a86-aab8-dde970d727bc",
   "metadata": {},
   "outputs": [],
   "source": [
    "medal_tally = medal_tally.groupby('region', as_index=False)[['Gold', 'Silver', 'Bronze']].sum().sort_values('Gold', ascending=False).reset_index(drop=True)\n",
    "# medal_tally = medal_tally.sort_values('Gold', ascending=False).reset_index(drop=True) # as_index=False ensures 'region' remains a column."
   ]
  },
  {
   "cell_type": "code",
   "execution_count": null,
   "id": "b0735ea0-edf2-4cae-a3b1-5c003d6ed0c8",
   "metadata": {},
   "outputs": [],
   "source": [
    "medal_tally"
   ]
  },
  {
   "cell_type": "code",
   "execution_count": null,
   "id": "64e4ffa8-20da-431c-877f-6ce169820e12",
   "metadata": {},
   "outputs": [],
   "source": [
    "medal_tally['total'] = medal_tally['Gold'] + medal_tally['Silver'] + medal_tally['Bronze']"
   ]
  },
  {
   "cell_type": "code",
   "execution_count": null,
   "id": "b06ebbf3-73b4-47a8-9c69-551a34e66dc8",
   "metadata": {},
   "outputs": [],
   "source": [
    "medal_tally"
   ]
  },
  {
   "cell_type": "code",
   "execution_count": null,
   "id": "58f0cc42-2357-4448-a5b1-921589a74d5b",
   "metadata": {},
   "outputs": [],
   "source": [
    "# Extract unique years from the 'Year' column and convert them into a list.  \n",
    "years = df['Year'].unique().tolist()  \n",
    "\n",
    "# Sort the years in ascending order for better organization.  \n",
    "years.sort()  \n",
    "\n",
    "# Insert 'Overall' at the beginning of the list to allow an option for selecting all years.  \n",
    "years.insert(0, 'Overall')  \n",
    "\n",
    "# The final 'years' list contains all unique years in sorted order, with 'Overall' as the first option.  \n",
    "years "
   ]
  },
  {
   "cell_type": "code",
   "execution_count": null,
   "id": "49c6a1f6-4ef8-4c1f-abc2-7c75b5ed377e",
   "metadata": {},
   "outputs": [],
   "source": [
    "# Extract unique country names from the 'region' column, ignoring NaN values.&\n",
    "# Convert the unique values into a list for easy access and processing.  \n",
    "country = np.unique(df['region'].dropna().values).tolist()  \n",
    "\n",
    "# Sort the country names in alphabetical order for better organization.  \n",
    "country.sort()  \n",
    "\n",
    "# Insert 'Overall' at the beginning of the list to allow an option for selecting all countries.  \n",
    "country.insert(0, 'Overall')  \n",
    "\n",
    "# The final 'country' list contains all unique country names in sorted order, with 'Overall' as the first option.  \n",
    "country  \n"
   ]
  },
  {
   "cell_type": "code",
   "execution_count": null,
   "id": "80f3ae11-02c7-4c23-a4a9-cd7e2d4db331",
   "metadata": {},
   "outputs": [],
   "source": [
    "# Function that fetches medals (Gold, Silver, and Bronze) based on the year and country.\n",
    "\n",
    "def fetch_medal_tally(df, year, country):\n",
    "    \"\"\"\n",
    "    Fetches the medal tally based on the given year and country.\n",
    "\n",
    "    Parameters:\n",
    "    df (pd.DataFrame): DataFrame containing Olympic medal data.\n",
    "    year (str/int): Year of the Olympics or 'Overall' for all years.\n",
    "    country (str): Country name or 'Overall' for all countries.\n",
    "\n",
    "    Returns:\n",
    "    pd.DataFrame: A DataFrame containing the medal tally.\n",
    "    \"\"\"\n",
    "    \n",
    "    # Remove duplicate medal records\n",
    "    medal_df = df.drop_duplicates(subset=['Team', 'NOC', 'Games', 'Year', 'City', 'Sport', 'Event', 'Medal'])\n",
    "\n",
    "    # Filtering based on year and country\n",
    "    if year == 'Overall' and country == 'Overall':\n",
    "        temp_df = medal_df\n",
    "    elif year == 'Overall':\n",
    "        temp_df = medal_df[medal_df['region'] == country]\n",
    "        group_by_year = True\n",
    "    elif country == 'Overall':\n",
    "        temp_df = medal_df[medal_df['Year'] == year]\n",
    "        group_by_year = False\n",
    "    else:\n",
    "        temp_df = medal_df[(medal_df['Year'] == year) & (medal_df['region'] == country)]\n",
    "        group_by_year = False\n",
    "\n",
    "    # Aggregate medal counts\n",
    "    group_column = 'Year' if group_by_year else 'region'\n",
    "    medal_tally = (\n",
    "        temp_df.groupby(group_column, as_index=False)[['Gold', 'Silver', 'Bronze']]\n",
    "        .sum()\n",
    "        .sort_values('Gold', ascending=False)\n",
    "        .reset_index(drop=True)\n",
    "    )\n",
    "\n",
    "    # Add total medal count\n",
    "    medal_tally['Total'] = medal_tally['Gold'] + medal_tally['Silver'] + medal_tally['Bronze']\n",
    "\n",
    "    return medal_tally\n"
   ]
  },
  {
   "cell_type": "code",
   "execution_count": null,
   "id": "df5f6cce-57d8-4472-b6c3-75cb804b47c5",
   "metadata": {},
   "outputs": [],
   "source": [
    "fetch_medal_tally(df, year=2016, country='USA') # Call the 'fetch_medal_tally()' funciton"
   ]
  },
  {
   "cell_type": "code",
   "execution_count": null,
   "id": "f82900e1-8ad8-4106-b482-cd993a118259",
   "metadata": {},
   "outputs": [],
   "source": [
    " # Remove duplicate medal records\n",
    "medal_df = df.drop_duplicates(subset=['Team', 'NOC', 'Games', 'Year', 'City', 'Sport', 'Event', 'Medal'])"
   ]
  },
  {
   "cell_type": "code",
   "execution_count": null,
   "id": "21d0bfb2-1097-45c6-af62-6e6e351aeccd",
   "metadata": {
    "scrolled": true
   },
   "outputs": [],
   "source": [
    "# Filter the dataset to include only records from the 2016 Olympics where the country is India\n",
    "medal_df[(medal_df['Year'] == 2016) & (medal_df['region'] == 'India')]"
   ]
  },
  {
   "cell_type": "markdown",
   "id": "063ecf4c-b394-43e0-9265-137b8afa0720",
   "metadata": {},
   "source": [
    "## Overall Analysis\n",
    "1. No of editions\n",
    "2. No of cities\n",
    "3. No of events/sports\n",
    "4. No of athletes\n",
    "5. participating nations"
   ]
  },
  {
   "cell_type": "code",
   "execution_count": null,
   "id": "a10f5747-9fa7-4a57-9780-27c5a72dc5c3",
   "metadata": {
    "scrolled": true
   },
   "outputs": [],
   "source": [
    "df.head(2)"
   ]
  },
  {
   "cell_type": "code",
   "execution_count": null,
   "id": "b6459557-d284-443f-a548-222e8470e329",
   "metadata": {},
   "outputs": [],
   "source": [
    "# how many Years of olympics\n",
    "df['Year'].unique()\n",
    "df['Year'].unique().shape"
   ]
  },
  {
   "cell_type": "code",
   "execution_count": null,
   "id": "4352389d-906c-45d9-b497-ac26cc7b59db",
   "metadata": {},
   "outputs": [],
   "source": [
    "df['Year'].unique().shape[0]-1"
   ]
  },
  {
   "cell_type": "code",
   "execution_count": null,
   "id": "688d909b-4f89-4c73-9d35-add4f724bdd2",
   "metadata": {},
   "outputs": [],
   "source": [
    "df['City'].unique()"
   ]
  },
  {
   "cell_type": "code",
   "execution_count": null,
   "id": "85e90d18-daca-4562-a72b-6e1607ad0145",
   "metadata": {},
   "outputs": [],
   "source": [
    "df['Sport'].unique()"
   ]
  },
  {
   "cell_type": "code",
   "execution_count": null,
   "id": "37d4c65f-64f7-4773-b774-51e00a029088",
   "metadata": {},
   "outputs": [],
   "source": [
    "# Returns the total count of unique sports present in the dataset.  \n",
    "df['Sport'].unique().shape"
   ]
  },
  {
   "cell_type": "code",
   "execution_count": null,
   "id": "5c81679f-6343-46c3-a03c-a3b0c6211d3b",
   "metadata": {},
   "outputs": [],
   "source": [
    "# Returns the total count of unique Events present in the dataset.\n",
    "df['Event'].unique().shape # A total of 651 events were held in the Olympics up to 2016."
   ]
  },
  {
   "cell_type": "code",
   "execution_count": null,
   "id": "00ad6fbc-de77-4e7c-b250-0730744106e1",
   "metadata": {},
   "outputs": [],
   "source": [
    "# Returns the total count of unique Athletes present in the dataset.  \n",
    "df['Name'].unique().shape "
   ]
  },
  {
   "cell_type": "code",
   "execution_count": null,
   "id": "06bee059-16a8-4255-ab2d-fceb3a0e3361",
   "metadata": {},
   "outputs": [],
   "source": [
    "# Returns the total number of unique countries or regions represented in the dataset.  \n",
    "df['region'].unique().shape"
   ]
  },
  {
   "cell_type": "markdown",
   "id": "62e54184-2f6b-4430-a3be-edad4e10a851",
   "metadata": {},
   "source": [
    "### plot some graphs"
   ]
  },
  {
   "cell_type": "code",
   "execution_count": null,
   "id": "3fce9c71-96af-488e-bf0b-e63360b2fd79",
   "metadata": {},
   "outputs": [],
   "source": [
    "# Participating Nations over the time\n",
    "df.head(3)"
   ]
  },
  {
   "cell_type": "code",
   "execution_count": null,
   "id": "6e4e4dd3-56d4-47d8-93f6-340c67e7f83c",
   "metadata": {},
   "outputs": [],
   "source": [
    "# duplicate all rows\n",
    "nation_over_time = df.drop_duplicates(['Year', 'region'])['Year'].value_counts().reset_index().sort_values('Year')\n",
    "nation_over_time.head(5)"
   ]
  },
  {
   "cell_type": "code",
   "execution_count": null,
   "id": "c540e7a2-cfef-488e-983c-55ea14b37d45",
   "metadata": {},
   "outputs": [],
   "source": [
    "nation_over_time.rename(columns={'Year': 'Edition', 'count':'No of countries'}, inplace=True)"
   ]
  },
  {
   "cell_type": "code",
   "execution_count": null,
   "id": "b239fccf-8110-4d0c-b3f1-0b7dc8d1d924",
   "metadata": {},
   "outputs": [],
   "source": [
    "nation_over_time.head(5)"
   ]
  },
  {
   "cell_type": "code",
   "execution_count": null,
   "id": "7217dbf4-fdf4-4e95-a56b-d41e0bafbc6d",
   "metadata": {},
   "outputs": [],
   "source": [
    "# !pip install plotly"
   ]
  },
  {
   "cell_type": "code",
   "execution_count": null,
   "id": "390f98d8-3435-4c93-9092-bcaeecbe071a",
   "metadata": {},
   "outputs": [],
   "source": [
    "import plotly.express as px"
   ]
  },
  {
   "cell_type": "code",
   "execution_count": null,
   "id": "19d7a5ac-913d-4e2d-b55a-502a65420760",
   "metadata": {},
   "outputs": [],
   "source": [
    "# Create a line chart to visualize the number of participating countries over different Olympic editions.  \n",
    "# 'Edition' is plotted on the x-axis, and 'No of countries' is plotted on the y-axis.  \n",
    "fig = px.line(nation_over_time, x=\"Edition\", y=\"No of countries\")  \n",
    "\n",
    "# Display the line chart.  \n",
    "fig.show()"
   ]
  },
  {
   "cell_type": "markdown",
   "id": "56b29c2b-aee5-49c0-b343-c31a8c87a94b",
   "metadata": {},
   "source": [
    "In 1980, the number of participating countries in the Olympics decreased significantly due to the Moscow Olympics boycott.\n",
    "\n",
    "What Happened in 1980?\n",
    "The United States led a boycott of the 1980 Summer Olympics in Moscow, USSR, in protest against the Soviet Union\\'s invasion of Afghanistan in 1979.\n",
    "\n",
    "Around 65 nations, including West Germany, Canada, Japan, China, and many others, joined the boycott and did not participate.\n",
    "\n",
    "As a result, the number of participating countries dropped from 92 in 1976 (Montreal Olympics) to 80 in 1980 (Moscow Olympics).\n",
    "\n",
    "This was one of the largest boycotts in Olympic history."
   ]
  },
  {
   "cell_type": "code",
   "execution_count": null,
   "id": "46e24676-8d19-4573-97c0-c40c146159b9",
   "metadata": {},
   "outputs": [],
   "source": []
  },
  {
   "cell_type": "code",
   "execution_count": null,
   "id": "7336801f-b32b-4a74-9e03-54abb3548a55",
   "metadata": {},
   "outputs": [],
   "source": [
    "events_over_time = df.drop_duplicates(['Year', 'Event'])['Year'].value_counts().reset_index().sort_values('Year')\n",
    "events_over_time.head(5)"
   ]
  },
  {
   "cell_type": "code",
   "execution_count": null,
   "id": "06ea654b-33fa-4f72-a108-b8bd8924cf5a",
   "metadata": {},
   "outputs": [],
   "source": [
    "# plot heatmap that over the year har sports mei kitne event hue \n",
    "x = df.drop_duplicates(['Year', 'Sport', 'Event'])"
   ]
  },
  {
   "cell_type": "code",
   "execution_count": null,
   "id": "31a4abec-e95c-45d3-93d0-fe1e04fc7837",
   "metadata": {},
   "outputs": [],
   "source": [
    "# Create a pivot table to analyze the number of events held for each sport across different years.  \n",
    "# - 'Sport' is set as the index to group data by sport.  \n",
    "# - 'Year' is used as columns to display data across different Olympic years.  \n",
    "# - 'Event' values are counted to determine the number of events per sport per year.  \n",
    "# - Missing values (NaN) are filled with 0, as some sports may not have events in certain years.  \n",
    "# - Convert the final counts to integers for better readability.  \n",
    "x.pivot_table(index='Sport', columns='Year', values='Event', aggfunc='count') \\\n",
    " .fillna(0).astype('int')"
   ]
  },
  {
   "cell_type": "code",
   "execution_count": null,
   "id": "6259f777-16e0-43b3-928d-9b3c6ecaaf1d",
   "metadata": {},
   "outputs": [],
   "source": [
    "# Create a heatmap to visualize the number of events held for each sport across different Olympic years.  \n",
    "plt.figure(figsize=(25, 25))  # Set the figure size for better readability.  \n",
    "\n",
    "sns.heatmap(\n",
    "    x.pivot_table(index='Sport', columns='Year', values='Event', aggfunc='count')  \n",
    "    .fillna(0).astype(int),  # Fill missing values with 0 and convert to integers for clarity.  \n",
    "    annot=True,  # Display the actual count values in each cell.  \n",
    "    fmt=\"d\",  # Format the annotations as integers.  \n",
    "    # cmap=\"Blues\"  # Optional: Apply a color map for better visualization.  \n",
    ")\n",
    "\n",
    "plt.show()  # Display the heatmap.  \n"
   ]
  },
  {
   "cell_type": "code",
   "execution_count": null,
   "id": "c230e5af-e874-43f9-9b76-b5eb724d4f13",
   "metadata": {},
   "outputs": [],
   "source": [
    "df.head(2)"
   ]
  },
  {
   "cell_type": "code",
   "execution_count": null,
   "id": "ed771dfd-ea0d-46f7-a649-d8947f31f056",
   "metadata": {},
   "outputs": [],
   "source": [
    "def most_successful(df, sport):\n",
    "    \"\"\"\n",
    "    Returns the top 10 most successful athletes based on the total number of medals won.\n",
    "    \n",
    "    Parameters:\n",
    "    df (DataFrame): The Olympics dataset.\n",
    "    sport (str): The sport to filter by ('Overall' for all sports).\n",
    "    \n",
    "    Returns:\n",
    "    DataFrame: A DataFrame containing the top 10 athletes with their medal count, sport, and region.\n",
    "    \"\"\"\n",
    "    \n",
    "    # Filter out rows where 'Medal' is NaN (only include medal-winning athletes)\n",
    "    temp_df = df.dropna(subset=['Medal'])\n",
    "\n",
    "    # If a specific sport is selected, filter the data\n",
    "    if sport != 'Overall':\n",
    "        temp_df = temp_df[temp_df['Sport'] == sport]\n",
    "\n",
    "    # Count medals for each athlete and create a DataFrame\n",
    "    result_df = temp_df['Name'].value_counts().reset_index()\n",
    "    result_df.columns = ['Name', 'Total No of Medals']\n",
    "\n",
    "    # Extract unique athlete information (Name, Sport, Region)\n",
    "    athlete_info = df[['Name', 'Sport', 'region']].drop_duplicates(subset=['Name'])\n",
    "\n",
    "    # Merge athlete information with medal counts\n",
    "    merged_df = result_df.merge(athlete_info, on='Name', how='left')\n",
    "\n",
    "    # Return the top 10 athletes\n",
    "    return merged_df[['Name', 'Total No of Medals', 'Sport', 'region']].head(10)\n",
    "\n",
    "# Call function to get the top 10 most successful athletes\n",
    "top_athletes = most_successful(df, 'Overall')\n",
    "top_athletes"
   ]
  },
  {
   "cell_type": "markdown",
   "id": "629048a7-65c6-4cd1-892d-5b31bb5aa8d7",
   "metadata": {},
   "source": [
    "## Countrywise Analysis\n",
    "1. Countrywise medal tally per year(line plot)\n",
    "2. Show the Countries Dominating Various Sports via heatmap\n",
    "3. Most successful Athletes(Top 10)"
   ]
  },
  {
   "cell_type": "code",
   "execution_count": null,
   "id": "69118ec0-c084-4a93-a239-bf798c4211f7",
   "metadata": {},
   "outputs": [],
   "source": [
    "df.head(5)"
   ]
  },
  {
   "cell_type": "markdown",
   "id": "c7cd3888-d8ad-4e62-b647-06832230ca46",
   "metadata": {},
   "source": [
    "## Country-wise Medal Tally Per Year (Line Plot)"
   ]
  },
  {
   "cell_type": "code",
   "execution_count": null,
   "id": "b24c81a2-507b-49c8-818c-12f959f3e363",
   "metadata": {},
   "outputs": [],
   "source": [
    "# Create a separate copy of the DataFrame to avoid modifying the original df\n",
    "temp_df = df.dropna(subset=['Medal']).copy()\n",
    "\n",
    "# Drop duplicates to keep only unique medal-winning entries\n",
    "temp_df.drop_duplicates(subset=['Team', 'NOC', 'Games', 'Year', 'City', 'Sport', 'Event', 'Medal'], inplace=True)"
   ]
  },
  {
   "cell_type": "code",
   "execution_count": null,
   "id": "989e2655-b63f-49e8-979b-c07dd30b1523",
   "metadata": {},
   "outputs": [],
   "source": [
    "# Filter the dataset to include only data for the USA.  \n",
    "new_df = temp_df[temp_df['region'] == 'USA']  \n",
    "\n",
    "# Group by 'Year' and count the number of medals won by the USA each year.  \n",
    "final_df = new_df.groupby('Year').count()['Medal'].reset_index()  \n",
    "\n",
    "# Create a line chart to visualize the trend of medals won by the USA over the years.  \n",
    "fig = px.line(final_df, x=\"Year\", y=\"Medal\")  \n",
    "\n",
    "# Display the line chart.  \n",
    "fig.show()"
   ]
  },
  {
   "cell_type": "markdown",
   "id": "ee29df45-0f4c-4ded-be3e-0334abd2977b",
   "metadata": {},
   "source": [
    "## Show the Countries Dominating Various Sports via heatmap"
   ]
  },
  {
   "cell_type": "code",
   "execution_count": null,
   "id": "035a2e9a-263c-4302-9c45-69dd3e37547d",
   "metadata": {},
   "outputs": [],
   "source": [
    "# Filter the dataset to include only data for the UK  \n",
    "new_df = temp_df[temp_df['region'] == 'UK']  \n",
    "\n",
    "# Create a pivot table to show the number of medals won per sport for each year  \n",
    "medal_heatmap = new_df.pivot_table(index='Sport', columns='Year', values='Medal', aggfunc='count').fillna(0)  \n",
    "\n",
    "# Display the pivot table  \n",
    "medal_heatmap"
   ]
  },
  {
   "cell_type": "code",
   "execution_count": null,
   "id": "de1d9e7f-77e8-4914-8ba4-efc9b32bd48a",
   "metadata": {},
   "outputs": [],
   "source": [
    "plt.figure(figsize=(25, 25))\n",
    "sns.heatmap(\n",
    "    new_df.pivot_table(index='Sport', columns='Year', values='Medal', aggfunc='count')\n",
    "    .fillna(0).astype(int),\n",
    "    annot=True,\n",
    "    fmt=\"d\",\n",
    "    # cmap=\"Blues\"  # Optional: Color enhancement\n",
    ")"
   ]
  },
  {
   "cell_type": "code",
   "execution_count": null,
   "id": "d523ec97-ff29-40b5-9c6f-910b38afd013",
   "metadata": {},
   "outputs": [],
   "source": [
    "def most_successful(df, country):\n",
    "    \"\"\"\n",
    "    Returns the top 10 most successful athletes from a given country based on the total number of medals won.\n",
    "    \n",
    "    Parameters:\n",
    "    df (DataFrame): The Olympics dataset.\n",
    "    country (str): The country to filter by.\n",
    "    \n",
    "    Returns:\n",
    "    DataFrame: A DataFrame containing the top 10 athletes with their medal count and sport.\n",
    "    \"\"\"\n",
    "\n",
    "    # Filter out rows where 'Medal' is NaN (only include medal-winning athletes)\n",
    "    temp_df = df.dropna(subset=['Medal'])\n",
    "\n",
    "    # Filter data for the selected country\n",
    "    temp_df = temp_df[temp_df['region'] == country]\n",
    "\n",
    "    # Count medals for each athlete\n",
    "    result_df = temp_df['Name'].value_counts().reset_index()\n",
    "    result_df.columns = ['Name', 'Total No of Medals']\n",
    "\n",
    "    # Extract unique athlete information (Name, Sport, Region)\n",
    "    athlete_info = df[['Name', 'Sport', 'region']].drop_duplicates(subset=['Name'])\n",
    "\n",
    "    # Merge athlete information with medal counts\n",
    "    merged_df = result_df.merge(athlete_info, on='Name', how='left')\n",
    "\n",
    "    # Return the top 10 athletes\n",
    "    return merged_df[['Name', 'Total No of Medals', 'Sport']].head(10)\n",
    "\n",
    "# Call function to get the top 10 most successful athletes from the USA\n",
    "top_athletes = most_successful(df, 'USA')\n",
    "top_athletes "
   ]
  },
  {
   "cell_type": "markdown",
   "id": "394d54c5-0ad5-40b7-aafe-b5a2b19135d2",
   "metadata": {},
   "source": [
    "## Athleteswise Analysis"
   ]
  },
  {
   "cell_type": "code",
   "execution_count": null,
   "id": "bd063be0-401c-43bd-96aa-bf98d21faef2",
   "metadata": {},
   "outputs": [],
   "source": [
    "import plotly.figure_factory as ff  # Importing Plotly's figure factory for creating advanced visualizations"
   ]
  },
  {
   "cell_type": "code",
   "execution_count": null,
   "id": "8f5f703a-be43-4ab9-94c0-f3d8d71ed881",
   "metadata": {},
   "outputs": [],
   "source": [
    "# Visualizing the Age Distribution of Unique Athletes\n",
    "\n",
    "# Remove duplicate athlete entries based on 'Name' and 'region' to get unique athletes  \n",
    "athlete_df = df.drop_duplicates(subset=['Name', 'region'])\n",
    "\n",
    "# Extract the 'Age' column for distribution analysis  \n",
    "age_data = athlete_df['Age'].dropna()  # Drop missing age values  \n",
    "\n",
    "# Create a distribution plot to visualize the age distribution of athletes  \n",
    "fig = ff.create_distplot(\n",
    "    [age_data],  \n",
    "    ['Age Distribution'],  \n",
    "    show_hist=False,  # Hides histogram for a smoother density curve  \n",
    "    show_rug=False  # Hides individual data points for better readability  \n",
    ")\n",
    "\n",
    "# Display the distribution plot  \n",
    "fig.show()\n"
   ]
  },
  {
   "cell_type": "code",
   "execution_count": null,
   "id": "1040454a-d18e-4a26-9529-8ae6d2ec6fed",
   "metadata": {},
   "outputs": [],
   "source": [
    "# fig = ff.create_distplot([athlete_df['Age'].dropna()],['Age Distribution'], show_hist=False, show_rug=False)\n",
    "# fig.show()"
   ]
  },
  {
   "cell_type": "markdown",
   "id": "bf3021dd-a6e4-4623-a740-062923a08eab",
   "metadata": {},
   "source": [
    "### Age Distribution of Athletes and Medalists"
   ]
  },
  {
   "cell_type": "code",
   "execution_count": null,
   "id": "aa09d83a-f28a-4b75-865c-62cae0e3c5d0",
   "metadata": {},
   "outputs": [],
   "source": [
    "# Age Distribution of Athletes and Medalists\n",
    "\n",
    "# Extract age data while dropping NaN values  \n",
    "x1 = athlete_df['Age'].dropna()  # All athletes' ages  \n",
    "x2 = athlete_df[athlete_df['Medal'] == 'Gold']['Age'].dropna()  # Gold medalists' ages  \n",
    "x3 = athlete_df[athlete_df['Medal'] == 'Silver']['Age'].dropna()  # Silver medalists' ages  \n",
    "x4 = athlete_df[athlete_df['Medal'] == 'Bronze']['Age'].dropna()  # Bronze medalists' ages  \n",
    "\n",
    "# Create a distribution plot to visualize the age distribution of all athletes and medalists  \n",
    "fig = ff.create_distplot(\n",
    "    [x1, x2, x3, x4],  \n",
    "    ['Overall Age', 'Gold Medalist', 'Silver Medalist', 'Bronze Medalist'],  \n",
    "    show_hist=False,  # Hides the histogram for a smoother curve  \n",
    "    show_rug=False  # Hides individual data points for clarity  \n",
    ")  \n",
    "\n",
    "# Display the distribution plot  \n",
    "fig.show()"
   ]
  },
  {
   "cell_type": "markdown",
   "id": "5735e113-53d2-4933-925b-e92571cf9de8",
   "metadata": {},
   "source": [
    "### Analyzing the Participation of Male and Female Athletes Over the Years"
   ]
  },
  {
   "cell_type": "code",
   "execution_count": null,
   "id": "6b45ba92-4f8c-4934-9fbc-5b46c95ba691",
   "metadata": {},
   "outputs": [],
   "source": [
    "# Count the number of male & female athletes per year  \n",
    "men = athlete_df[athlete_df['Sex'] == 'M'].groupby('Year').count()['Name'].reset_index()\n",
    "women = athlete_df[athlete_df['Sex'] == 'F'].groupby('Year').count()['Name'].reset_index()\n",
    "\n",
    "# Merge the male and female data on the 'Year' column using a left join and after rename column for better clarity\n",
    "final = men.merge(women, on='Year', how='left')  \n",
    "final.rename(columns={'Name_x': 'Male', 'Name_y': 'Female'}, inplace=True)\n",
    "\n",
    "# Fill missing values (if any) with 0 to avoid errors  \n",
    "final.fillna(0, inplace=True)\n",
    "\n",
    "# Create a line plot to visualize the participation trend of male and female athletes  \n",
    "fig = px.line(final, x=\"Year\", y=['Male', 'Female'], title=\"Male vs Female Athlete Participation Over the Years\")\n",
    "fig.show() \n"
   ]
  }
 ],
 "metadata": {
  "kernelspec": {
   "display_name": "Python 3 (ipykernel)",
   "language": "python",
   "name": "python3"
  },
  "language_info": {
   "codemirror_mode": {
    "name": "ipython",
    "version": 3
   },
   "file_extension": ".py",
   "mimetype": "text/x-python",
   "name": "python",
   "nbconvert_exporter": "python",
   "pygments_lexer": "ipython3",
   "version": "3.10.7"
  }
 },
 "nbformat": 4,
 "nbformat_minor": 5
}
